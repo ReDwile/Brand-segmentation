{
 "cells": [
  {
   "cell_type": "code",
   "execution_count": 1,
   "metadata": {},
   "outputs": [],
   "source": [
    "from openpyxl import *\n",
    "from pandas import *"
   ]
  },
  {
   "cell_type": "code",
   "execution_count": 2,
   "metadata": {},
   "outputs": [],
   "source": [
    "prices = [] #Тут будут храниться цена каждого продукта (понадобится для сегментации)\n",
    "products_info = DataFrame({'Price_sum': [], 'Quantity': []}) #Таблица, где хранятся все данные"
   ]
  },
  {
   "cell_type": "code",
   "execution_count": 3,
   "metadata": {},
   "outputs": [],
   "source": [
    "def add_data(file): #Добавляет данные в таблицу (Берет данные из файла)\n",
    "    global products_info, prices\n",
    "    for i in range(3, file.max_row + 1):\n",
    "        brand = file.cell(row = i, column = 2).value\n",
    "        volume = float(file.cell(row = i, column = 3).value.split()[0].replace(',', '.'))\n",
    "        price = file.cell(row = i, column = 4).value / volume\n",
    "        prices.append(price)\n",
    "        if not brand in products_info.index:\n",
    "            products_info = DataFrame([[price, 1]], columns = ['Price_sum', 'Quantity'], index=[brand]).append(products_info)\n",
    "        else:\n",
    "            products_info.at[brand, 'Price_sum'] += price\n",
    "            products_info.at[brand, 'Quantity'] = products_info.loc[brand]['Quantity'] + 1\n",
    "            \n",
    "def create(): #Создает отчет\n",
    "    global products_info\n",
    "    wb = Workbook()\n",
    "    ws = wb.active\n",
    "    ws.append(['Бренд', 'Ценовой сегмент'])\n",
    "    for brand in products_info.index:\n",
    "        ws.append([brand, products_info.loc[brand, 'Segment']])\n",
    "    wb.save('Сегментация брендов.xlsx')\n",
    "\n"
   ]
  },
  {
   "cell_type": "code",
   "execution_count": 4,
   "metadata": {},
   "outputs": [
    {
     "name": "stderr",
     "output_type": "stream",
     "text": [
      "C:\\Program Files\\Anaconda\\lib\\site-packages\\ipykernel_launcher.py:4: DeprecationWarning: Call to deprecated function get_sheet_names (Use wb.sheetnames).\n",
      "  after removing the cwd from sys.path.\n",
      "C:\\Program Files\\Anaconda\\lib\\site-packages\\ipykernel_launcher.py:5: DeprecationWarning: Call to deprecated function get_sheet_by_name (Use wb[sheetname]).\n",
      "  \"\"\"\n"
     ]
    },
    {
     "name": "stdout",
     "output_type": "stream",
     "text": [
      "                   Price_sum  Quantity  Average_price              Segment\n",
      "Valio             943.900000       6.0          157.0          High Priced\n",
      "Простоквашино     272.315789       3.0           91.0  Upper Middle Priced\n",
      "Parmalat          875.780000       3.0          292.0          High Priced\n",
      "Дмитровский       219.980000       3.0           73.0           Low Priced\n",
      "Домик в деревне  1343.960171      15.0           90.0        Middle Priced\n"
     ]
    },
    {
     "name": "stdin",
     "output_type": "stream",
     "text": [
      "Сохранить отчет в эксель-файл? Напишите, Да или Нет:  Нет\n"
     ]
    }
   ],
   "source": [
    "#Начало основной программы\n",
    "file_name = 'products.xlsx'\n",
    "file_time = load_workbook(file_name)\n",
    "for name in file_time.get_sheet_names():\n",
    "    file = file_time.get_sheet_by_name(name) #В этой переменной хранится одна страничка из Эксель-файла\n",
    "    add_data(file)\n",
    "\n",
    "prices = sorted(prices) #Сортирует массив с ценами в порядке возрастания\n",
    "l_m_id = len(prices) // 4 #Индекс цены, которая разделяет бренды Low и Middle\n",
    "m_u_id = len(prices) // 2 #Индекс цены, которая разделяет бренды Middle и Upper Middle\n",
    "u_h_id = l_m_id * 3 #Индекс цены, которая разделяет бренды Upper Middle и High\n",
    "\n",
    "#Методология сегментации заключается в следующем: У нас есть в массиве все данные о ценах.\n",
    "#Первая четверть цен относится к ценовой области Low Priced\n",
    "#Вторая - к Middle Priced\n",
    "#И так далее\n",
    "\n",
    "products_info['Average_price'] = round(products_info['Price_sum'] / products_info['Quantity']) #Добавляет столбец средней цены\n",
    "\n",
    "for brand in products_info.index: #Добавляет столбец сегментации\n",
    "    if products_info.loc[brand]['Average_price'] <= prices[l_m_id]:\n",
    "        products_info.at[brand, 'Segment'] = 'Low Priced'\n",
    "    elif products_info.loc[brand]['Average_price'] <= prices[m_u_id]:\n",
    "        products_info.at[brand, 'Segment'] = 'Middle Priced'\n",
    "    elif products_info.loc[brand]['Average_price'] <= prices[u_h_id]:\n",
    "        products_info.at[brand, 'Segment'] = 'Upper Middle Priced'\n",
    "    else:\n",
    "        products_info.at[brand, 'Segment'] = 'High Priced'\n",
    "\n",
    "print(products_info)\n",
    "answer = input('Сохранить отчет в эксель-файл? Напишите, Да или Нет: ')\n",
    "if answer == 'Да':\n",
    "    create()"
   ]
  },
  {
   "cell_type": "code",
   "execution_count": null,
   "metadata": {},
   "outputs": [],
   "source": []
  }
 ],
 "metadata": {
  "kernelspec": {
   "display_name": "Python 3",
   "language": "python",
   "name": "python3"
  },
  "language_info": {
   "codemirror_mode": {
    "name": "ipython",
    "version": 3
   },
   "file_extension": ".py",
   "mimetype": "text/x-python",
   "name": "python",
   "nbconvert_exporter": "python",
   "pygments_lexer": "ipython3",
   "version": "3.7.1"
  }
 },
 "nbformat": 4,
 "nbformat_minor": 2
}
