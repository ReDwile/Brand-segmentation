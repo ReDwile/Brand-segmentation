{
 "cells": [
  {
   "cell_type": "code",
   "execution_count": 1,
   "metadata": {},
   "outputs": [],
   "source": [
    "import openpyxl as pl\n",
    "import numpy as np\n",
    "from openpyxl import Workbook"
   ]
  },
  {
   "cell_type": "code",
   "execution_count": 2,
   "metadata": {},
   "outputs": [],
   "source": [
    "# Все используемые функции\n",
    "\n",
    "def correction(data): # Преображает данные, чтобы по названию бренда можно было сразу достать среднюю цену за 100г\n",
    "    max_price = -1\n",
    "    min_price = -1\n",
    "    for brand in data.keys():\n",
    "        data[brand] = round(sum(data[brand])/len(data[brand]), 1)\n",
    "        if min_price == -1 or min_price > data[brand]:\n",
    "            min_price = data[brand]\n",
    "        if max_price < data[brand]:\n",
    "            max_price = data[brand]\n",
    "    return data, min_price, max_price\n",
    "\n",
    "def segmentation(data, min_price, max_price): # Выдает массив с брендами, прошедних сегментацию\n",
    "    for brand in data.keys():\n",
    "        value = data[brand]\n",
    "        data[brand] = round((value - min_price) * 100 / (max_price - min_price))\n",
    "    \n",
    "    # В словаре data по бренду можно вытащить значение цены за 100г (находится в диапозоне от 0 до 100)\n",
    "    brands = np.array(list(data.keys()))\n",
    "    low = select_mas(np.array([data[brand]<25 for brand in brands]), brands) # Применяет функцию select_mas(), в которой находятся булевый массив и массив с брендами\n",
    "    low.append('Low Priced')\n",
    "    middle = select_mas(np.array([26<data[brand]<50 for brand in brands]), brands) # Делает то же, что и предыдущий, но для другой сегментации\n",
    "    middle.append('Middle Priced')\n",
    "    upper = select_mas(np.array([51<data[brand]<76 for brand in brands]), brands) # Делает то же, что и предыдущий, но для другой сегментации\n",
    "    upper.append('Upper Middle Priced')\n",
    "    high = select_mas(np.array([data[brand]>76 for brand in brands]), brands) # Делает то же, что и предыдущий, но для другой сегментации\n",
    "    high.append('High Priced')\n",
    "    \n",
    "    # Создает файл xlsx\n",
    "    wb = Workbook()\n",
    "    ws = wb.active\n",
    "    ws.append(['Бренд', 'Ценовой сегмент'])\n",
    "    add(low, ws)\n",
    "    add(middle, ws)\n",
    "    add(upper, ws)\n",
    "    add(high, ws)\n",
    "    wb.save('report.xlsx')\n",
    "    \n",
    "    print('Был создан файл report.xlsx, содержащий в себе информацию о брендах и их ценовых сегментах')\n",
    "\n",
    "def select_mas(mas, brands): # Берет булевый массив и бренды, выдает массив с брендами, которые прошли условие (если в булевом массиве True - условие проходит)\n",
    "    array_of_brands = [x for x in np.select([mas], [brands]) if x != '0'] # Применяет функцию select(), убирая при этом получившиеся нули\n",
    "    return array_of_brands\n",
    "\n",
    "def add(mas, ws): # Добавляет в Workbook строчку с брендами и ценовым сегментом\n",
    "    for i in range(len(mas)-1):\n",
    "        ws.append([mas[i], mas[-1]])"
   ]
  },
  {
   "cell_type": "code",
   "execution_count": 3,
   "metadata": {},
   "outputs": [],
   "source": [
    "# Все необходимые удобно-записанные данные\n",
    "\n",
    "data = {} # Шаблон: | data = {\n",
    "          #         |         'Название бренда': [Цены продуктов за 100г одного бренда], \n",
    "          #         |         ...\n",
    "          #         |        }"
   ]
  },
  {
   "cell_type": "code",
   "execution_count": 4,
   "metadata": {},
   "outputs": [
    {
     "name": "stderr",
     "output_type": "stream",
     "text": [
      "C:\\Program Files\\Anaconda\\lib\\site-packages\\ipykernel_launcher.py:8: DeprecationWarning: Call to deprecated function get_sheet_names (Use wb.sheetnames).\n",
      "  \n",
      "C:\\Program Files\\Anaconda\\lib\\site-packages\\ipykernel_launcher.py:10: DeprecationWarning: Call to deprecated function get_sheet_by_name (Use wb[sheetname]).\n",
      "  # Remove the CWD from sys.path while we load stuff.\n"
     ]
    }
   ],
   "source": [
    "# Импорт, обработка и запись из файла необходимых нам данных\n",
    "\n",
    "file = pl.load_workbook('пельмени.xlsx')\n",
    "# Шаблон xlsx файла: | Название магазина Адрес                      |\n",
    "#                    | Наименование      Бренд    Цена     Вес      | - (В этой строчке могут быть и другие столбцы.\n",
    "#                    | (Данные)          (Данные) (Данные) (Данные) |    Которые сейчас написаны - необходимы быть)\n",
    "#                    | ...                                          |\n",
    "name = file.get_sheet_names()\n",
    "for name_one in name:\n",
    "    sheet = file.get_sheet_by_name(name_one)\n",
    "    brand_id, price_id, weight_id = -1, -1, -1 # Нужны для выявления столбцов, интересующих нас данных\n",
    "    for i in range(1, sheet.max_column+1):\n",
    "        cell = sheet.cell(row = 2, column = i).value\n",
    "        if cell == 'Бренд':\n",
    "            brand_id = i\n",
    "        elif cell == 'Цена':\n",
    "            price_id = i\n",
    "        elif cell == 'Вес':\n",
    "            weight_id = i\n",
    "    if brand_id != -1 and price_id != -1 and weight_id != -1:\n",
    "        for i in range(3, sheet.max_row+1):\n",
    "            brand = sheet.cell(row = i, column = brand_id).value\n",
    "            price = sheet.cell(row = i, column = price_id).value\n",
    "            weight = sheet.cell(row = i, column = weight_id).value\n",
    "            try:\n",
    "                if brand in data.keys():\n",
    "                    data[brand].append(round(price/weight*100, 2))\n",
    "                else:\n",
    "                    data[brand] = [round(price/weight*100, 2)]\n",
    "            except:\n",
    "                print(f'В {name_one} была обнаружена ошибка записи данных в строчке {i}. (Эта строчка была проигнорирована)')\n",
    "    else:\n",
    "        print(f'Лист {name_one} не соответствует шаблону заполнения')\n",
    "data, min_price, max_price = correction(data)\n",
    "# min_price - Минимальная средняя цена бренда за 100г данного датасета, max_price - Максимальная средняя цена бренда за 100г данного датасета"
   ]
  },
  {
   "cell_type": "code",
   "execution_count": 5,
   "metadata": {},
   "outputs": [
    {
     "name": "stdout",
     "output_type": "stream",
     "text": [
      "Был создан файл report.xlsx, содержащий в себе информацию о брендах и их ценовых сегментах\n"
     ]
    }
   ],
   "source": [
    "# Методология сегментации\n",
    "\n",
    "# У нас есть минимальное и максимальное число в данных. Переведем каждое число бренда в проценты (от 0 до 100).\n",
    "# 0% - минимальное число, 100% - максимальное число. Формула для перевода: (x - min)*100/(max-min) - это число нахдится в диапозоне от 0 до 100.\n",
    "# от 0% до 25% - категория Low priced\n",
    "# от 26% до 50% - категория Middle priced\n",
    "# от 51% до 75% - категория Upper middle priced\n",
    "# от 76% до 100% - категория High priced\n",
    "\n",
    "segmentation(data, min_price, max_price) # Произвела сегментацию и создала эксель файл, разделив бренды на ценовые сегменты\n",
    "\n",
    "# В реальном кейсе можно было соединить функции correction() и segmentation(), но для наглядности мы их разделили"
   ]
  }
 ],
 "metadata": {
  "kernelspec": {
   "display_name": "Python 3",
   "language": "python",
   "name": "python3"
  },
  "language_info": {
   "codemirror_mode": {
    "name": "ipython",
    "version": 3
   },
   "file_extension": ".py",
   "mimetype": "text/x-python",
   "name": "python",
   "nbconvert_exporter": "python",
   "pygments_lexer": "ipython3",
   "version": "3.7.1"
  }
 },
 "nbformat": 4,
 "nbformat_minor": 2
}
